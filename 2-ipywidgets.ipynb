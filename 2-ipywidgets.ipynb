{
 "cells": [
  {
   "cell_type": "markdown",
   "metadata": {},
   "source": [
    "# From `def` to dashboard in one line: automatic UIs"
   ]
  },
  {
   "cell_type": "markdown",
   "metadata": {},
   "source": [
    "- Let's imagine that, rather than starting from scratch, we had a `nbpy_top_tweeters` module aleady containing everything we need"
   ]
  },
  {
   "cell_type": "code",
   "execution_count": 1,
   "metadata": {},
   "outputs": [
    {
     "data": {
      "text/plain": [
       "\u001b[0;31mSignature:\u001b[0m\n",
       "\u001b[0mget_scoreboard\u001b[0m\u001b[0;34m(\u001b[0m\u001b[0;34m\u001b[0m\n",
       "\u001b[0;34m\u001b[0m    \u001b[0mapi_token\u001b[0m\u001b[0;34m=\u001b[0m\u001b[0;34m''\u001b[0m\u001b[0;34m,\u001b[0m\u001b[0;34m\u001b[0m\n",
       "\u001b[0;34m\u001b[0m    \u001b[0mapi_secret\u001b[0m\u001b[0;34m=\u001b[0m\u001b[0;34m''\u001b[0m\u001b[0;34m,\u001b[0m\u001b[0;34m\u001b[0m\n",
       "\u001b[0;34m\u001b[0m    \u001b[0mdisplay_top\u001b[0m\u001b[0;34m=\u001b[0m\u001b[0;36m5\u001b[0m\u001b[0;34m,\u001b[0m\u001b[0;34m\u001b[0m\n",
       "\u001b[0;34m\u001b[0m    \u001b[0mresult_type\u001b[0m\u001b[0;34m=\u001b[0m\u001b[0;34m'last'\u001b[0m\u001b[0;34m,\u001b[0m\u001b[0;34m\u001b[0m\n",
       "\u001b[0;34m\u001b[0m    \u001b[0mdate\u001b[0m\u001b[0;34m=\u001b[0m\u001b[0;34m''\u001b[0m\u001b[0;34m,\u001b[0m\u001b[0;34m\u001b[0m\n",
       "\u001b[0;34m\u001b[0m    \u001b[0mcontestants_name\u001b[0m\u001b[0;34m=\u001b[0m\u001b[0;34m'Tweeters'\u001b[0m\u001b[0;34m,\u001b[0m\u001b[0;34m\u001b[0m\n",
       "\u001b[0;34m\u001b[0m    \u001b[0mapi_timeout\u001b[0m\u001b[0;34m=\u001b[0m\u001b[0;36m1\u001b[0m\u001b[0;34m,\u001b[0m\u001b[0;34m\u001b[0m\n",
       "\u001b[0;34m\u001b[0m    \u001b[0muse_cache\u001b[0m\u001b[0;34m=\u001b[0m\u001b[0;32mTrue\u001b[0m\u001b[0;34m,\u001b[0m\u001b[0;34m\u001b[0m\n",
       "\u001b[0;34m\u001b[0m    \u001b[0mcache_file\u001b[0m\u001b[0;34m=\u001b[0m\u001b[0;34m''\u001b[0m\u001b[0;34m,\u001b[0m\u001b[0;34m\u001b[0m\n",
       "\u001b[0;34m\u001b[0m    \u001b[0mdecoration\u001b[0m\u001b[0;34m=\u001b[0m\u001b[0;34m''\u001b[0m\u001b[0;34m,\u001b[0m\u001b[0;34m\u001b[0m\n",
       "\u001b[0;34m\u001b[0m\u001b[0;34m)\u001b[0m\u001b[0;34m\u001b[0m\u001b[0;34m\u001b[0m\u001b[0m\n",
       "\u001b[0;31mDocstring:\u001b[0m <no docstring>\n",
       "\u001b[0;31mFile:\u001b[0m      ~/Dropbox/projects/nbpy-2019/nbpy_top_tweeters.py\n",
       "\u001b[0;31mType:\u001b[0m      function\n"
      ]
     },
     "metadata": {},
     "output_type": "display_data"
    }
   ],
   "source": [
    "from nbpy_top_tweeters import get_scoreboard\n",
    "\n",
    "get_scoreboard?"
   ]
  },
  {
   "cell_type": "code",
   "execution_count": 2,
   "metadata": {},
   "outputs": [
    {
     "data": {
      "text/markdown": [
       "---\n",
       "#  [North Bay Python 2019](https://2019.northbaypython.org) Top 10 Tweeters \n",
       "| name | # tweets |\n",
       "|-|-|\n",
       "| northbaypython | 38 |\n",
       "| skimbrel | 33 |\n",
       "| skfroi | 27 |\n",
       "| joshsimmons | 24 |\n",
       "| parisba | 22 |\n",
       "| nkantar | 16 |\n",
       "| spiritcodenwine | 16 |\n",
       "| The_McJones | 15 |\n",
       "| chrisjrn | 15 |\n",
       "| zooba | 12 |"
      ],
      "text/plain": [
       "<nbpy_top_tweeters.ScoreBoard at 0x7f372a7ba990>"
      ]
     },
     "execution_count": 2,
     "metadata": {},
     "output_type": "execute_result"
    }
   ],
   "source": [
    "get_scoreboard(display_top=10)"
   ]
  },
  {
   "cell_type": "code",
   "execution_count": 3,
   "metadata": {},
   "outputs": [],
   "source": [
    "import ipywidgets as widgets"
   ]
  },
  {
   "cell_type": "code",
   "execution_count": 4,
   "metadata": {},
   "outputs": [
    {
     "data": {
      "application/vnd.jupyter.widget-view+json": {
       "model_id": "bfa98fd1ae9943c8b43ce13e23e6c7a5",
       "version_major": 2,
       "version_minor": 0
      },
      "text/plain": [
       "interactive(children=(Text(value='', description='api_token'), Text(value='', description='api_secret'), IntSl…"
      ]
     },
     "metadata": {},
     "output_type": "display_data"
    },
    {
     "data": {
      "text/plain": [
       "<function nbpy_top_tweeters.get_scoreboard(api_token='', api_secret='', display_top=5, result_type='last', date='', contestants_name='Tweeters', api_timeout=1, use_cache=True, cache_file='', decoration='')>"
      ]
     },
     "execution_count": 4,
     "metadata": {},
     "output_type": "execute_result"
    }
   ],
   "source": [
    "widgets.interact(get_scoreboard)"
   ]
  },
  {
   "cell_type": "markdown",
   "metadata": {},
   "source": [
    "- `interact()` is the simplest way of adding a basic UI from a callable and its arguments\n",
    "    - Widget types are inferred from argument types and values\n",
    "    - Displays immediately input widgets and callable output\n",
    "    - Re-runs the callable at every widget interaction"
   ]
  },
  {
   "cell_type": "markdown",
   "metadata": {},
   "source": [
    "### Get more specific widgets by passing kwargs to `interactive()`\n",
    "\n",
    "- The default values of the callable's arguments are still used as starting value"
   ]
  },
  {
   "cell_type": "code",
   "execution_count": 5,
   "metadata": {},
   "outputs": [
    {
     "data": {
      "application/vnd.jupyter.widget-view+json": {
       "model_id": "90c18e43866b4e6895041eb96f2c6370",
       "version_major": 2,
       "version_minor": 0
      },
      "text/plain": [
       "interactive(children=(Text(value='', description='api_token'), Text(value='', description='api_secret'), IntSl…"
      ]
     },
     "metadata": {},
     "output_type": "display_data"
    },
    {
     "data": {
      "text/plain": [
       "<function nbpy_top_tweeters.get_scoreboard(api_token='', api_secret='', display_top=5, result_type='last', date='', contestants_name='Tweeters', api_timeout=1, use_cache=True, cache_file='', decoration='')>"
      ]
     },
     "execution_count": 5,
     "metadata": {},
     "output_type": "execute_result"
    }
   ],
   "source": [
    "widgets.interact(get_scoreboard,\n",
    "                 # specify a range by giving (min, max) or (min, max, step)\n",
    "                 display_top=(1, 20),  \n",
    "                 # specify floats for fractional values\n",
    "                 api_timeout=(0, 10.),\n",
    "                 # specify a list of possible values\n",
    "                 decoration=['🎊', '🎉', '🐍'],\n",
    "                 # specify a list of possible values with description\n",
    "                 result_type=[('Most recent first', 'last'), ('Most popular first', 'popular'), ('Mixed', 'mixed')],\n",
    ")"
   ]
  },
  {
   "cell_type": "markdown",
   "metadata": {},
   "source": [
    "### Get even more specific by using `Widget` objects directly"
   ]
  },
  {
   "cell_type": "code",
   "execution_count": 6,
   "metadata": {},
   "outputs": [
    {
     "data": {
      "application/vnd.jupyter.widget-view+json": {
       "model_id": "e6cb75b0563141e1916eb612f794af41",
       "version_major": 2,
       "version_minor": 0
      },
      "text/plain": [
       "interactive(children=(Text(value='', description='api_token'), Text(value='', description='api_secret'), IntSl…"
      ]
     },
     "metadata": {},
     "output_type": "display_data"
    }
   ],
   "source": [
    "full_widgets = {\n",
    "    'use_cache': widgets.Checkbox(\n",
    "        value=False,\n",
    "        description='Use cached tweets',\n",
    "        disabled=False\n",
    "    ),\n",
    "    'date': widgets.DatePicker(\n",
    "        description='Count only tweets on',\n",
    "        disabled=False\n",
    "    ),\n",
    "    'cache_file': widgets.FileUpload(\n",
    "        accept='.sqlite',\n",
    "        multiple=False,\n",
    "        description='Cache file'\n",
    "    ),\n",
    "    'api_timeout': widgets.FloatSlider(\n",
    "        value=1,\n",
    "        min=0,\n",
    "        max=10.0,\n",
    "        step=0.1,\n",
    "        description='Time between API calls',\n",
    "        disabled=False,\n",
    "        orientation='horizontal',\n",
    "        readout=True,\n",
    "        readout_format='.1f',\n",
    "    ),\n",
    "     # specify a range by giving (min, max) or (min, max, step)\n",
    "     'display_top': (1, 20),  \n",
    "     # specify a list of possible values\n",
    "     'decoration': ['🎊', '🎉', '🐍'],\n",
    "     # specify a list of possible values with description\n",
    "     'result_type': [('Most recent first', 'last'), ('Most popular first', 'popular'), ('Mixed', 'mixed')],\n",
    "}\n",
    " \n",
    "widgets.interact(get_scoreboard,\n",
    "                 **full_widgets\n",
    ");"
   ]
  },
  {
   "cell_type": "markdown",
   "metadata": {},
   "source": [
    "## Turn off continuous update for slow functions\n",
    "\n",
    "- `interact_manual()` creates a UI with a button to trigger the update manually"
   ]
  },
  {
   "cell_type": "code",
   "execution_count": 7,
   "metadata": {},
   "outputs": [
    {
     "data": {
      "application/vnd.jupyter.widget-view+json": {
       "model_id": "8ef9645a88ca42009338e4efd3e5e45d",
       "version_major": 2,
       "version_minor": 0
      },
      "text/plain": [
       "interactive(children=(Text(value='', description='api_token'), Text(value='', description='api_secret'), IntSl…"
      ]
     },
     "metadata": {},
     "output_type": "display_data"
    },
    {
     "data": {
      "text/plain": [
       "<function nbpy_top_tweeters.get_scoreboard(api_token='', api_secret='', display_top=5, result_type='last', date='', contestants_name='Tweeters', api_timeout=1, use_cache=True, cache_file='', decoration='')>"
      ]
     },
     "execution_count": 7,
     "metadata": {},
     "output_type": "execute_result"
    }
   ],
   "source": [
    "# equivalent to: interact(f, {'manual': True}, **kwargs)\n",
    "widgets.interact_manual(get_scoreboard, **full_widgets)"
   ]
  },
  {
   "cell_type": "markdown",
   "metadata": {},
   "source": [
    "- Setting `continuous_update=False` on individual widgets to trigger updates only when mouse is released"
   ]
  },
  {
   "cell_type": "code",
   "execution_count": 8,
   "metadata": {},
   "outputs": [
    {
     "data": {
      "application/vnd.jupyter.widget-view+json": {
       "model_id": "4382e2a3bda14dfea4ed38faa8efd2c9",
       "version_major": 2,
       "version_minor": 0
      },
      "text/plain": [
       "interactive(children=(Text(value='', description='api_token'), Text(value='', description='api_secret'), IntSl…"
      ]
     },
     "metadata": {},
     "output_type": "display_data"
    }
   ],
   "source": [
    "full_widgets['display_top'] = widgets.IntSlider(\n",
    "    min=1,\n",
    "    max=20,\n",
    "    continuous_update=False,\n",
    ")\n",
    "\n",
    "widgets.interact(get_scoreboard, **full_widgets);"
   ]
  },
  {
   "cell_type": "markdown",
   "metadata": {},
   "source": [
    "## Control input and output separately"
   ]
  },
  {
   "cell_type": "markdown",
   "metadata": {},
   "source": [
    "- `interactive()`\n",
    "    - Creates the UI widget and returns it as an object, instead of displaying it\n",
    "        - Useful for reusing the same UI\n",
    "    - Can access the parameters values and function output separately"
   ]
  },
  {
   "cell_type": "markdown",
   "metadata": {},
   "source": [
    "- `interactive_output()`\n",
    "    - Does not create the UI widget\n",
    "    - Connects existing UI widgets with function input parameters"
   ]
  }
 ],
 "metadata": {
  "kernelspec": {
   "display_name": "nbpy-2019",
   "language": "python",
   "name": "nbpy-2019"
  },
  "language_info": {
   "codemirror_mode": {
    "name": "ipython",
    "version": 3
   },
   "file_extension": ".py",
   "mimetype": "text/x-python",
   "name": "python",
   "nbconvert_exporter": "python",
   "pygments_lexer": "ipython3",
   "version": "3.7.5"
  }
 },
 "nbformat": 4,
 "nbformat_minor": 4
}
