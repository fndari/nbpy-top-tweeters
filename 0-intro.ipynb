{
 "cells": [
  {
   "cell_type": "markdown",
   "metadata": {
    "slideshow": {
     "slide_type": "slide"
    }
   },
   "source": [
    "We want to study values of the expression:\n",
    "\n",
    "$$(na)^{16}$$"
   ]
  },
  {
   "cell_type": "code",
   "execution_count": null,
   "metadata": {
    "slideshow": {
     "slide_type": "fragment"
    }
   },
   "outputs": [],
   "source": [
    "%matplotlib inline\n",
    "\n",
    "import matplotlib.pyplot as plt\n",
    "import numpy as np\n",
    "\n",
    "xs = np.arange(-7.25, 7.25, 0.01)\n",
    "ys = np.arange(-5, 5, 0.01)\n",
    "x, y = np.meshgrid(xs, ys)\n",
    "\n",
    "np.seterr(invalid='ignore')\n",
    "\n",
    "eq1 = ((x/7)**2*np.sqrt(abs(abs(x)-3)/(abs(x)-3))+(y/3)**2*np.sqrt(abs(y+3/7*np.sqrt(33))/(y+3/7*np.sqrt(33)))-1)\n",
    "eq2 = (abs(x/2)-((3*np.sqrt(33)-7)/112)*x**2-3+np.sqrt(1-(abs(abs(x)-2)-1)**2)-y)\n",
    "eq3 = (9*np.sqrt(abs((abs(x)-1)*(abs(x)-.75))/((1-abs(x))*(abs(x)-.75)))-8*abs(x)-y)\n",
    "eq4 = (3*abs(x)+.75*np.sqrt(abs((abs(x)-.75)*(abs(x)-.5))/((.75-abs(x))*(abs(x)-.5)))-y)\n",
    "eq5 = (2.25*np.sqrt(abs((x-.5)*(x+.5))/((.5-x)*(.5+x)))-y)\n",
    "eq6 = (6*np.sqrt(10)/7+(1.5-.5*abs(x))*np.sqrt(abs(abs(x)-1)/(abs(x)-1))-(6*np.sqrt(10)/14)*np.sqrt(4-(abs(x)-1)**2)-y)\n",
    "\n",
    "#eq1 = ((x/7.0)**2.0*sqrt(abs(abs(x)-3.0)/(abs(x)-3.0))+(y/3.0)**2.0*sqrt(abs(y+3.0/7.0*sqrt(33.0))/(y+3.0/7.0*sqrt(33.0)))-1.0)\n",
    "\n",
    "for f in [eq1,eq2,eq3,eq4,eq5,eq6]:\n",
    "    plt.contour(x, y, f, [0])\n",
    "\n",
    "plt.show()"
   ]
  },
  {
   "cell_type": "markdown",
   "metadata": {},
   "source": [
    "---"
   ]
  }
 ],
 "metadata": {
  "kernelspec": {
   "display_name": "nbpy-2019",
   "language": "python",
   "name": "nbpy-2019"
  },
  "language_info": {
   "codemirror_mode": {
    "name": "ipython",
    "version": 3
   },
   "file_extension": ".py",
   "mimetype": "text/x-python",
   "name": "python",
   "nbconvert_exporter": "python",
   "pygments_lexer": "ipython3",
   "version": "3.7.5"
  }
 },
 "nbformat": 4,
 "nbformat_minor": 4
}
