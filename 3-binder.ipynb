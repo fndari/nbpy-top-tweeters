{
 "cells": [
  {
   "cell_type": "markdown",
   "metadata": {},
   "source": [
    "# From \"runs here\" to \"run everywhere\": Deploy your notebook with Binder"
   ]
  },
  {
   "cell_type": "markdown",
   "metadata": {},
   "source": [
    "[![Binder](https://mybinder.org/badge_logo.svg)](https://mybinder.org/v2/gh/fndari/nbpy-top-tweeters/master)\n",
    "\n",
    "...that's it!"
   ]
  },
  {
   "cell_type": "markdown",
   "metadata": {
    "jupyter": {
     "source_hidden": true
    }
   },
   "source": [
    "![binder_tutorial](https://mybinder.readthedocs.io/en/latest/_images/mybinder-ui-start.png)"
   ]
  },
  {
   "cell_type": "markdown",
   "metadata": {},
   "source": [
    "- Repo URL: https://github.org/fndari/nbpy-top-tweeters\n",
    "    - Clone & build directly from: GitHub, GitLab, \n",
    "- Binder URL (launch): https://mybinder.org/v2/gh/fndari/nbpy-top-tweeters/master\n",
    "    - Might take a few minutes at the beginning\n",
    "- Binder URL (running): https://hub.gke.mybinder.org/user/fndari-nbpy-top-tweeters-dc0o62xk\n",
    "    - Expires after some time"
   ]
  },
  {
   "cell_type": "markdown",
   "metadata": {},
   "source": [
    "## What's needed\n",
    "\n",
    "- A way to describe environment\n",
    "    - For Python: `requirements.txt` (pip), `environment.yml` (Conda)"
   ]
  },
  {
   "cell_type": "markdown",
   "metadata": {},
   "source": [
    "## What's not (strictly) needed\n",
    "\n",
    "- Jupyter notebooks\n",
    "    - Can customize the interface when opening the link via the URL\n",
    "    - Point to web terminal using https://mybinder.org/v2/gh/fndari/nbpy-top-tweeters/master?urlpath=/terminals/1"
   ]
  }
 ],
 "metadata": {
  "kernelspec": {
   "display_name": "nbpy-2019",
   "language": "python",
   "name": "nbpy-2019"
  },
  "language_info": {
   "codemirror_mode": {
    "name": "ipython",
    "version": 3
   },
   "file_extension": ".py",
   "mimetype": "text/x-python",
   "name": "python",
   "nbconvert_exporter": "python",
   "pygments_lexer": "ipython3",
   "version": "3.7.5"
  }
 },
 "nbformat": 4,
 "nbformat_minor": 4
}
