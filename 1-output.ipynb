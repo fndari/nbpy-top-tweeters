{
 "cells": [
  {
   "cell_type": "markdown",
   "metadata": {},
   "source": [
    "# The basic nbpy_top_tweeters app"
   ]
  },
  {
   "cell_type": "markdown",
   "metadata": {
    "slideshow": {
     "slide_type": "slide"
    }
   },
   "source": [
    "First, let's get connected with the Twitter API:"
   ]
  },
  {
   "cell_type": "code",
   "execution_count": null,
   "metadata": {
    "slideshow": {
     "slide_type": "fragment"
    }
   },
   "outputs": [],
   "source": [
    "import os\n",
    "import tweepy"
   ]
  },
  {
   "cell_type": "code",
   "execution_count": null,
   "metadata": {
    "slideshow": {
     "slide_type": "fragment"
    }
   },
   "outputs": [],
   "source": [
    "auth = tweepy.AppAuthHandler(\n",
    "    os.environ['TWITTER_API_TOKEN'],\n",
    "    os.environ['TWITTER_API_SECRET']\n",
    ")\n",
    "\n",
    "api = tweepy.API(auth)\n",
    "api"
   ]
  },
  {
   "cell_type": "code",
   "execution_count": null,
   "metadata": {
    "jupyter": {
     "source_hidden": true
    }
   },
   "outputs": [],
   "source": [
    "# import requests_cache\n",
    "# requests_cache.install_cache()"
   ]
  },
  {
   "cell_type": "markdown",
   "metadata": {},
   "source": [
    "At this point, we use the `search()` method to get a list of tweets matching the search term:"
   ]
  },
  {
   "cell_type": "code",
   "execution_count": null,
   "metadata": {
    "slideshow": {
     "slide_type": "slide"
    }
   },
   "outputs": [],
   "source": [
    "nbpy_tweets = api.search('#nbpy', count=100)"
   ]
  },
  {
   "cell_type": "code",
   "execution_count": null,
   "metadata": {
    "slideshow": {
     "slide_type": "fragment"
    }
   },
   "outputs": [],
   "source": [
    "len(nbpy_tweets)"
   ]
  },
  {
   "cell_type": "markdown",
   "metadata": {
    "slideshow": {
     "slide_type": "slide"
    }
   },
   "source": [
    "From the iterable of tweets we get the number of tweets per user by using a `collections.Counter` object:"
   ]
  },
  {
   "cell_type": "code",
   "execution_count": null,
   "metadata": {
    "slideshow": {
     "slide_type": "-"
    }
   },
   "outputs": [],
   "source": [
    "from collections import Counter\n",
    "\n",
    "tweet_count_by_username = Counter(tweet.user.screen_name for tweet in nbpy_tweets)"
   ]
  },
  {
   "cell_type": "code",
   "execution_count": null,
   "metadata": {
    "slideshow": {
     "slide_type": "fragment"
    }
   },
   "outputs": [],
   "source": [
    "tweet_count_by_username"
   ]
  },
  {
   "cell_type": "markdown",
   "metadata": {
    "slideshow": {
     "slide_type": "slide"
    }
   },
   "source": [
    "At this point, we can calculate the top $n$ tweeters:"
   ]
  },
  {
   "cell_type": "code",
   "execution_count": null,
   "metadata": {},
   "outputs": [],
   "source": [
    "top_tweeters = tweet_count_by_username.most_common(20)\n",
    "top_tweeters"
   ]
  },
  {
   "cell_type": "markdown",
   "metadata": {
    "slideshow": {
     "slide_type": "slide"
    }
   },
   "source": [
    "And show a scoreboard with the winners:"
   ]
  },
  {
   "cell_type": "code",
   "execution_count": null,
   "metadata": {},
   "outputs": [],
   "source": [
    "for username, tweet_count in top_tweeters:\n",
    "    print(f'@{username:20}{tweet_count:2d}')"
   ]
  },
  {
   "cell_type": "markdown",
   "metadata": {
    "slideshow": {
     "slide_type": "notes"
    }
   },
   "source": [
    "- We can see that, already with the \"vanilla\" notebook, we have some degree of interactivity simply by editing and running the code cell-by-cell rather than in one go"
   ]
  },
  {
   "cell_type": "markdown",
   "metadata": {
    "slideshow": {
     "slide_type": "slide"
    }
   },
   "source": [
    "---"
   ]
  },
  {
   "cell_type": "markdown",
   "metadata": {},
   "source": [
    "# From `repr()` output to rich output with `IPython.display`"
   ]
  },
  {
   "cell_type": "code",
   "execution_count": null,
   "metadata": {
    "slideshow": {
     "slide_type": "slide"
    }
   },
   "outputs": [],
   "source": [
    "import random\n",
    "\n",
    "tweet = random.choice(nbpy_tweets)\n",
    "tweet"
   ]
  },
  {
   "cell_type": "markdown",
   "metadata": {},
   "source": [
    "- The repr of these objects are rich in information, but not very easy to explore"
   ]
  },
  {
   "cell_type": "code",
   "execution_count": null,
   "metadata": {},
   "outputs": [],
   "source": [
    "tweet.user"
   ]
  },
  {
   "cell_type": "markdown",
   "metadata": {},
   "source": [
    "The `IPython.display` module contains several classes that render rich output from objects in a cell's output"
   ]
  },
  {
   "cell_type": "code",
   "execution_count": null,
   "metadata": {},
   "outputs": [],
   "source": [
    "from IPython.display import *"
   ]
  },
  {
   "cell_type": "markdown",
   "metadata": {},
   "source": [
    "- `JSON` turns any JSON-able `dict` into an expandable, filterable widget"
   ]
  },
  {
   "cell_type": "code",
   "execution_count": null,
   "metadata": {},
   "outputs": [],
   "source": [
    "tweet._json"
   ]
  },
  {
   "cell_type": "code",
   "execution_count": null,
   "metadata": {},
   "outputs": [],
   "source": [
    "JSON(tweet._json)"
   ]
  },
  {
   "cell_type": "markdown",
   "metadata": {},
   "source": [
    "- `Image` generates an image from raw PNG data, a file path, or a URL"
   ]
  },
  {
   "cell_type": "code",
   "execution_count": null,
   "metadata": {},
   "outputs": [],
   "source": [
    "Image(tweet.user.profile_image_url)"
   ]
  },
  {
   "cell_type": "markdown",
   "metadata": {},
   "source": [
    "- `Markdown` can be used to generate rich text programmatically in a cell's output\n"
   ]
  },
  {
   "cell_type": "code",
   "execution_count": null,
   "metadata": {},
   "outputs": [],
   "source": [
    "Markdown(f\"\"\"\n",
    "*{tweet.user.name}* (`@{tweet.user.screen_name}`) is tweeting about **North Bay Python**!\n",
    "\"\"\")"
   ]
  },
  {
   "cell_type": "markdown",
   "metadata": {},
   "source": [
    "- `HTML` is able to render arbitrary HTML code"
   ]
  },
  {
   "cell_type": "code",
   "execution_count": null,
   "metadata": {},
   "outputs": [],
   "source": [
    "HTML('<a class=\"twitter-timeline\" href=\"https://twitter.com/northbaypython?ref_src=twsrc%5Etfw\">Tweets by northbaypython</a> <script async src=\"https://platform.twitter.com/widgets.js\" charset=\"utf-8\"></script>');"
   ]
  },
  {
   "cell_type": "markdown",
   "metadata": {},
   "source": [
    "- `FileLink` generates a \"smart\" link to a file, relative to the notebook's working directory"
   ]
  },
  {
   "cell_type": "code",
   "execution_count": null,
   "metadata": {},
   "outputs": [],
   "source": [
    "FileLink('hey-nbpy.md')"
   ]
  },
  {
   "cell_type": "markdown",
   "metadata": {},
   "source": [
    "---"
   ]
  },
  {
   "cell_type": "markdown",
   "metadata": {},
   "source": [
    "We can use these building block to create rich representations and associate them with any object\n",
    "\n",
    "- Strategy #1: Register custom formatters for object types"
   ]
  },
  {
   "cell_type": "code",
   "execution_count": null,
   "metadata": {},
   "outputs": [],
   "source": [
    "def tweet_as_markdown(tweet):\n",
    "    quoted_text = '\\n'.join(f'> {line}' for line in tweet.text.split('\\n'))\n",
    "    author = f'--*{tweet.user.name}* (`@{tweet.user.screen_name}`) on {tweet.created_at}'\n",
    "    return quoted_text + '\\n\\n' + author"
   ]
  },
  {
   "cell_type": "code",
   "execution_count": null,
   "metadata": {},
   "outputs": [],
   "source": [
    "formatters = get_ipython().display_formatter.formatters\n",
    "formatters['text/markdown'].for_type(tweepy.Status, tweet_as_markdown)"
   ]
  },
  {
   "cell_type": "code",
   "execution_count": null,
   "metadata": {},
   "outputs": [],
   "source": [
    "tweet"
   ]
  },
  {
   "cell_type": "markdown",
   "metadata": {},
   "source": [
    "- Strategy #2: Implement `_repr_*_()` methods for custom classes"
   ]
  },
  {
   "cell_type": "markdown",
   "metadata": {},
   "source": [
    "Notes:\n",
    "\n",
    "- Let's say we want to move the tweet-counting code to its own class\n"
   ]
  },
  {
   "cell_type": "code",
   "execution_count": null,
   "metadata": {},
   "outputs": [],
   "source": [
    "class ScoreBoard:\n",
    "    \n",
    "    def __init__(self, items, display_top=5):\n",
    "        self._items = items\n",
    "        self.display_top = display_top\n",
    "        \n",
    "    @property\n",
    "    def counts_by_name(self):\n",
    "        return Counter(self._items)\n",
    "    \n",
    "    @property\n",
    "    def to_display(self):\n",
    "        return self.counts_by_name.most_common(self.display_top)\n",
    "\n",
    "    def _repr_markdown_(self):\n",
    "        # effectively we're using this \n",
    "        lines = [\n",
    "            f'# [North Bay Python 2019](https://2019.northbaypython.org) Top {self.display_top} Tweeters',\n",
    "            '| name | # tweets |',\n",
    "            '|-|-|',\n",
    "        ]\n",
    "\n",
    "        for name, count in self.to_display:\n",
    "            lines.append(f'| {name} | {count} |')\n",
    "\n",
    "        return '\\n'.join(lines)\n",
    "        "
   ]
  },
  {
   "cell_type": "code",
   "execution_count": null,
   "metadata": {},
   "outputs": [],
   "source": [
    "ScoreBoard(tweet_count_by_username, display_top=10)"
   ]
  },
  {
   "cell_type": "markdown",
   "metadata": {},
   "source": [
    "- Rich output is rendered automatically when the object is the return value of a cell\n",
    "    - Tip: use a `;` at the end of the last line in the cell to render nothing instead\n",
    "- Use the `display()` function to show rich output from anywhere in a cell (e.g. in a loop)\n",
    "    - `display()` is versatile; falls back to text repr in a console"
   ]
  },
  {
   "cell_type": "code",
   "execution_count": null,
   "metadata": {},
   "outputs": [],
   "source": [
    "for tweet in nbpy_tweets[:10]:\n",
    "    display(tweet)"
   ]
  },
  {
   "cell_type": "code",
   "execution_count": null,
   "metadata": {
    "jupyter": {
     "source_hidden": true
    }
   },
   "outputs": [],
   "source": [
    "nbpy_tweets = api.search('#nbpy', count=100000)"
   ]
  },
  {
   "cell_type": "code",
   "execution_count": null,
   "metadata": {
    "jupyter": {
     "source_hidden": true
    }
   },
   "outputs": [],
   "source": [
    "import pickle\n",
    "\n",
    "with open('nbpy_tweets.pkl', 'wb') as f:\n",
    "    pickle.dump(nbpy_tweets, f)"
   ]
  },
  {
   "cell_type": "code",
   "execution_count": null,
   "metadata": {
    "jupyter": {
     "source_hidden": true
    }
   },
   "outputs": [],
   "source": [
    "with open('nbpy_tweets.pkl', 'rb') as f:\n",
    "    unpickled = pickle.load(f)\n",
    "    \n",
    "len(unpickled)"
   ]
  }
 ],
 "metadata": {
  "celltoolbar": "Slideshow",
  "kernelspec": {
   "display_name": "nbpy-2019",
   "language": "python",
   "name": "nbpy-2019"
  },
  "language_info": {
   "codemirror_mode": {
    "name": "ipython",
    "version": 3
   },
   "file_extension": ".py",
   "mimetype": "text/x-python",
   "name": "python",
   "nbconvert_exporter": "python",
   "pygments_lexer": "ipython3",
   "version": "3.7.5"
  }
 },
 "nbformat": 4,
 "nbformat_minor": 4
}
