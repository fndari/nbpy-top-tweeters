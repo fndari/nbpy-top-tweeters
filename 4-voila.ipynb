{
 "cells": [
  {
   "cell_type": "markdown",
   "metadata": {},
   "source": [
    "# The NPBY Tweeters Interactive Scoreboard"
   ]
  },
  {
   "cell_type": "code",
   "execution_count": 1,
   "metadata": {},
   "outputs": [
    {
     "data": {
      "application/vnd.jupyter.widget-view+json": {
       "model_id": "376f5eb89f314b0fa468d2fa7474b30c",
       "version_major": 2,
       "version_minor": 0
      },
      "text/plain": [
       "interactive(children=(Text(value='', description='api_token'), Text(value='', description='api_secret'), IntSl…"
      ]
     },
     "metadata": {},
     "output_type": "display_data"
    }
   ],
   "source": [
    "from nbpy_top_tweeters import get_scoreboard\n",
    "import ipywidgets as widgets\n",
    "\n",
    "full_widgets = {\n",
    "    'date': widgets.DatePicker(\n",
    "        description='Count only tweets on',\n",
    "        disabled=False\n",
    "    ),\n",
    "    'cache_file': widgets.FileUpload(\n",
    "        accept='.pkl',\n",
    "        multiple=False,\n",
    "        description='Cache file'\n",
    "    ),\n",
    "    'use_cache': widgets.Checkbox(\n",
    "        value=False,\n",
    "        description='Use cached tweets',\n",
    "        disabled=False\n",
    "    ),\n",
    "    'api_timeout': widgets.FloatSlider(\n",
    "        value=1,\n",
    "        min=0,\n",
    "        max=10.0,\n",
    "        step=0.1,\n",
    "        description='Time between API calls',\n",
    "        disabled=False,\n",
    "        orientation='horizontal',\n",
    "        readout=True,\n",
    "        readout_format='.1f',\n",
    "    )\n",
    "}\n",
    " \n",
    "widgets.interact(get_scoreboard,\n",
    "                 # specify a range by giving (min, max) or (min, max, step)\n",
    "                 display_top=(1, 20),  \n",
    "                 # specify a list of possible values\n",
    "                 decoration=['🎊', '🎉', '🐍'],\n",
    "                 # specify a list of possible values with description\n",
    "                 result_type=[('Most recent first', 'last'), ('Most popular first', 'popular'), ('Mixed', 'mixed')],\n",
    "                 **full_widgets\n",
    ");"
   ]
  },
  {
   "cell_type": "code",
   "execution_count": null,
   "metadata": {
    "jupyter": {
     "source_hidden": true
    }
   },
   "outputs": [],
   "source": []
  }
 ],
 "metadata": {
  "kernelspec": {
   "display_name": "nbpy-2019",
   "language": "python",
   "name": "nbpy-2019"
  },
  "language_info": {
   "codemirror_mode": {
    "name": "ipython",
    "version": 3
   },
   "file_extension": ".py",
   "mimetype": "text/x-python",
   "name": "python",
   "nbconvert_exporter": "python",
   "pygments_lexer": "ipython3",
   "version": "3.7.5"
  }
 },
 "nbformat": 4,
 "nbformat_minor": 4
}
